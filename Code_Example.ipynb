{
 "cells": [
  {
   "cell_type": "markdown",
   "metadata": {
    "tags": []
   },
   "source": [
    "# MAS climate downscale for the Southeast Asia"
   ]
  },
  {
   "cell_type": "markdown",
   "metadata": {},
   "source": [
    "This [Jupyter Notebook](https://jupyter.org/) is coded with Python 3.9.7 for the climate downscale project funded by The Monetary Authority of Singapore, focusing on the statistical downscale for the climate projections in the Southeast Asia.<br>\n",
    "Any questions regarding the code can be addressed to **Dr Shuai Wang** at **shuai.wang@imperial.ac.uk**. <br>\n",
    "<br>\n",
    "**Contents:** <br>\n",
    "1. Prepare models\n",
    "2. Activate CUPs for parallel computing\n",
    "3. Choose a downscale model\n",
    "4. Downscale for regions\n",
    "5. Results visualisation\n"
   ]
  },
  {
   "cell_type": "markdown",
   "metadata": {
    "tags": []
   },
   "source": [
    "## Prepare models"
   ]
  },
  {
   "cell_type": "markdown",
   "metadata": {},
   "source": [
    "Imports some global libraries"
   ]
  },
  {
   "cell_type": "code",
   "execution_count": 1,
   "metadata": {
    "tags": []
   },
   "outputs": [],
   "source": [
    "# close warming info\n",
    "import warnings\n",
    "warnings.filterwarnings(\"ignore\")\n",
    "from IPython.core.interactiveshell import InteractiveShell\n",
    "InteractiveShell.ast_node_interactivity = \"all\"\n",
    "%matplotlib inline\n",
    "\n",
    "%load_ext autoreload\n",
    "%autoreload 2\n",
    "%matplotlib inline\n",
    "\n",
    "import warnings\n",
    "warnings.filterwarnings(\"ignore\")  # sklearn\n",
    "\n",
    "import matplotlib.pyplot as plt\n",
    "import seaborn as sns\n",
    "\n",
    "import pandas as pd\n",
    "\n",
    "import numpy as np\n",
    "\n",
    "from utils import get_sample_data\n",
    "\n",
    "import xarray as xr\n",
    "\n",
    "from sklearn.linear_model import LinearRegression\n",
    "from sklearn.ensemble import RandomForestRegressor\n",
    "\n",
    "from skdownscale.pointwise_models import PureAnalog, AnalogRegression\n",
    "from skdownscale.pointwise_models import BcsdTemperature, BcsdPrecipitation\n",
    "from skdownscale.pointwise_models import QuantileMappingReressor\n",
    "\n",
    "from skdownscale.pointwise_models import PointWiseDownscaler\n",
    "from dask.diagnostics import ProgressBar\n",
    "\n",
    "sns.set(style='darkgrid')"
   ]
  },
  {
   "cell_type": "markdown",
   "metadata": {
    "tags": []
   },
   "source": [
    "## Activate CUPs for parallel computing"
   ]
  },
  {
   "cell_type": "markdown",
   "metadata": {},
   "source": [
    "Start a Dask Cluster. This cluster will be used when it comes time to load input data and train/predict downscaling models. <br>\n",
    "**NB:** The program can automatically choose an optimal number of CUPs based on the compute configurations."
   ]
  },
  {
   "cell_type": "code",
   "execution_count": 2,
   "metadata": {
    "tags": []
   },
   "outputs": [],
   "source": [
    "from dask.distributed import Client\n",
    "\n",
    "client = Client()\n",
    "# client"
   ]
  },
  {
   "cell_type": "markdown",
   "metadata": {
    "tags": []
   },
   "source": [
    "## Choose a downscale model"
   ]
  },
  {
   "cell_type": "markdown",
   "metadata": {},
   "source": [
    "Five difference downscale models are prepared. To make a choice, simply un-comment the line with the prefered model.<br>\n",
    "1. Quantile Mapping\n",
    "2. Pure Analog (best-analog)\n",
    "3. Pure Analog (sample-analog)\n",
    "4. Random Forest\n",
    "5. Temperature bias correction"
   ]
  },
  {
   "cell_type": "code",
   "execution_count": 3,
   "metadata": {
    "tags": []
   },
   "outputs": [],
   "source": [
    "model = PointWiseDownscaler(QuantileMappingReressor())\n",
    "# model = PointWiseDownscaler(PureAnalog(kind='best_analog', n_analogs=1))\n",
    "# model = PointWiseDownscaler(PureAnalog(kind='sample_analogs', n_analogs=10))\n",
    "# model = PointWiseDownscaler(RandomForestRegressor(random_state=0))\n",
    "# model = PointWiseDownscaler(BcsdTemperature(return_anoms=False))"
   ]
  },
  {
   "cell_type": "markdown",
   "metadata": {
    "tags": []
   },
   "source": [
    "## Downscale for regions"
   ]
  },
  {
   "cell_type": "markdown",
   "metadata": {},
   "source": [
    "### SET: training and predicting periods\n",
    "The exmaple below means you want to train the model for 2005-2007 and predict for 2053-2055"
   ]
  },
  {
   "cell_type": "code",
   "execution_count": 4,
   "metadata": {
    "tags": []
   },
   "outputs": [],
   "source": [
    "TRAIN_START_YEAR = 2005\n",
    "TRAIN_END_YEAR   = 2007\n",
    "\n",
    "PRED_START_YEAR  = 2053\n",
    "PRED_END_YEAR    = 2055\n",
    "\n",
    "###\n",
    "train_slice = slice(str(TRAIN_START_YEAR), str(TRAIN_END_YEAR))  # train time range   '1981', '1983'\n",
    "holdout_slice = slice(str(PRED_START_YEAR), str(PRED_END_YEAR))  # prediction time range"
   ]
  },
  {
   "cell_type": "markdown",
   "metadata": {},
   "source": [
    "### SET: variables\n",
    "There are four climate variables that can be chosen for downscaling<br>\n",
    "1. `Precipitation` *(mm per day)* the daily accumulated precipitation\n",
    "2. `Temperature` *(C)* the daily maximum temperature\n",
    "3. `Wind` *(m/s)* the daily averaged wind\n",
    "4. `Surge` *(m)* the daily averaged wind-drived surge height \n",
    "**NB:** uncomment one VAR per downscaling run"
   ]
  },
  {
   "cell_type": "code",
   "execution_count": 5,
   "metadata": {
    "tags": []
   },
   "outputs": [],
   "source": [
    "VAR = 'Precipitation'\n",
    "# VAR = 'Temperature'\n",
    "# VAR = 'Wind'\n",
    "# VAR = 'Surge'"
   ]
  },
  {
   "cell_type": "markdown",
   "metadata": {},
   "source": [
    "### SET: downscale region\n",
    "The example below sets the region boxing Malaysia<br>\n",
    "1. NNN: northmost latitude\n",
    "2. SSS: southmost latitude\n",
    "3. WWW: westmost longitude\n",
    "4. EEE: eastmost longitude"
   ]
  },
  {
   "cell_type": "code",
   "execution_count": 6,
   "metadata": {
    "tags": []
   },
   "outputs": [],
   "source": [
    "NNN,SSS,WWW,EEE = 8.5,-0.5,98.5,120.5"
   ]
  },
  {
   "cell_type": "markdown",
   "metadata": {},
   "source": [
    "Download the historical observation from [Google Earth Engine ERA5 archive](https://developers.google.com/earth-engine/datasets/catalog/ECMWF_ERA5_DAILY)<br>\n",
    "To download the data, a google account is required."
   ]
  },
  {
   "cell_type": "code",
   "execution_count": 7,
   "metadata": {
    "tags": []
   },
   "outputs": [
    {
     "data": {
      "text/html": [
       "<p>To authorize access needed by Earth Engine, open the following\n",
       "        URL in a web browser and follow the instructions:</p>\n",
       "        <p><a href=https://accounts.google.com/o/oauth2/auth?client_id=517222506229-vsmmajv00ul0bs7p89v5m89qs8eb9359.apps.googleusercontent.com&scope=https%3A%2F%2Fwww.googleapis.com%2Fauth%2Fearthengine+https%3A%2F%2Fwww.googleapis.com%2Fauth%2Fdevstorage.full_control&redirect_uri=urn%3Aietf%3Awg%3Aoauth%3A2.0%3Aoob&response_type=code&code_challenge=Fj0kqA9uSK9p_7u-Y9fxwVrXePClO0qHw_5dbS5IZCw&code_challenge_method=S256>https://accounts.google.com/o/oauth2/auth?client_id=517222506229-vsmmajv00ul0bs7p89v5m89qs8eb9359.apps.googleusercontent.com&scope=https%3A%2F%2Fwww.googleapis.com%2Fauth%2Fearthengine+https%3A%2F%2Fwww.googleapis.com%2Fauth%2Fdevstorage.full_control&redirect_uri=urn%3Aietf%3Awg%3Aoauth%3A2.0%3Aoob&response_type=code&code_challenge=Fj0kqA9uSK9p_7u-Y9fxwVrXePClO0qHw_5dbS5IZCw&code_challenge_method=S256</a></p>\n",
       "        <p>The authorization workflow will generate a code, which you\n",
       "        should paste in the box below</p>\n",
       "        "
      ],
      "text/plain": [
       "<IPython.core.display.HTML object>"
      ]
     },
     "metadata": {},
     "output_type": "display_data"
    },
    {
     "name": "stderr",
     "output_type": "stream",
     "text": [
      "xdg-open: no method available for opening 'https://accounts.google.com/o/oauth2/auth?client_id=517222506229-vsmmajv00ul0bs7p89v5m89qs8eb9359.apps.googleusercontent.com&scope=https%3A%2F%2Fwww.googleapis.com%2Fauth%2Fearthengine+https%3A%2F%2Fwww.googleapis.com%2Fauth%2Fdevstorage.full_control&redirect_uri=urn%3Aietf%3Awg%3Aoauth%3A2.0%3Aoob&response_type=code&code_challenge=Fj0kqA9uSK9p_7u-Y9fxwVrXePClO0qHw_5dbS5IZCw&code_challenge_method=S256'\n"
     ]
    },
    {
     "name": "stdin",
     "output_type": "stream",
     "text": [
      "Enter verification code:  4/1AX4XfWg2UPEF5sdac65QpqinjR8YXPUl-wZTbx1Q5qqvYIJimaqS1T27ZaQ\n"
     ]
    },
    {
     "name": "stdout",
     "output_type": "stream",
     "text": [
      "\n",
      "Successfully saved authorization token.\n"
     ]
    },
    {
     "data": {
      "application/vnd.jupyter.widget-view+json": {
       "model_id": "d59e1f608ad14d0a8971fe5c3f69f120",
       "version_major": 2,
       "version_minor": 0
      },
      "text/plain": [
       "Requesting data:   0%|          | 0/1095 [00:00<?, ?it/s]"
      ]
     },
     "metadata": {},
     "output_type": "display_data"
    },
    {
     "data": {
      "application/vnd.jupyter.widget-view+json": {
       "model_id": "fc4f2d62b84244279c7caeb9104e5450",
       "version_major": 2,
       "version_minor": 0
      },
      "text/plain": [
       "Downloading data:   0%|          | 0/1095 [00:00<?, ?it/s]"
      ]
     },
     "metadata": {},
     "output_type": "display_data"
    }
   ],
   "source": [
    "# bounding box of downscaling region\n",
    "lon_slice = slice(WWW, EEE) \n",
    "lat_slice = slice(NNN, SSS)\n",
    "\n",
    "# chunk shape for dask execution (time must be contiguous, ie -1)\n",
    "chunks = {'lat': 10, 'lon': 10, 'time': -1}\n",
    "\n",
    "import ee\n",
    "import wxee\n",
    "\n",
    "# Trigger the authentication flow.\n",
    "ee.Authenticate()\n",
    "\n",
    "# Initialize the library.\n",
    "ee.Initialize()\n",
    "\n",
    "# singapore: 1.3521° N, 103.8198° E\n",
    "region = ee.Geometry.Polygon([[\n",
    "    [WWW, NNN],\n",
    "    [WWW, SSS],\n",
    "    [EEE, SSS],\n",
    "    [EEE, NNN]\n",
    "]])\n",
    "if VAR == 'Precipitation':\n",
    "    era5_2mt = ee.ImageCollection('ECMWF/ERA5/DAILY')\n",
    "    era5_2mt = era5_2mt.select('total_precipitation')\n",
    "    era5_2mt = era5_2mt.filterDate(str(TRAIN_START_YEAR)+\"-01-01\", str(TRAIN_END_YEAR+1)+\"-01-01\") # here we should add one more time for the end point\n",
    "    obs_subset=era5_2mt.wx.to_xarray(region=region)\n",
    "    obs_subset=obs_subset['total_precipitation']\n",
    "    obs_subset=obs_subset.rename({'x': 'lon','y': 'lat'})\n",
    "    \n",
    "if VAR == 'Temperature':\n",
    "    era5_2mt = ee.ImageCollection('ECMWF/ERA5/DAILY')\n",
    "    era5_2mt = era5_2mt.select('maximum_2m_air_temperature')\n",
    "    era5_2mt = era5_2mt.filterDate(str(TRAIN_START_YEAR)+\"-01-01\", str(TRAIN_END_YEAR+1)+\"-01-01\") # here we should add one more time for the end point\n",
    "    obs_subset=era5_2mt.wx.to_xarray(region=region)\n",
    "    obs_subset=obs_subset['maximum_2m_air_temperature']\n",
    "    obs_subset=obs_subset.rename({'x': 'lon','y': 'lat'})\n",
    "    \n",
    "if VAR == 'Wind' or VAR == 'Surge':\n",
    "    era5_2mt = ee.ImageCollection('ECMWF/ERA5/DAILY')\n",
    "    era5_2mt = era5_2mt.select('u_component_of_wind_10m')\n",
    "    era5_2mt = era5_2mt.filterDate(str(TRAIN_START_YEAR)+\"-01-01\", str(TRAIN_END_YEAR+1)+\"-01-01\") # here we should add one more time for the end point\n",
    "    obs_subset=era5_2mt.wx.to_xarray(region=region)\n",
    "    obs_subset_u=obs_subset['u_component_of_wind_10m']\n",
    "    # obs_subset=obs_subset.rename({'x': 'lon','y': 'lat'})\n",
    "\n",
    "    era5_2mt = ee.ImageCollection('ECMWF/ERA5/DAILY')\n",
    "    era5_2mt = era5_2mt.select('v_component_of_wind_10m')\n",
    "    era5_2mt = era5_2mt.filterDate(str(TRAIN_START_YEAR)+\"-01-01\", str(TRAIN_END_YEAR+1)+\"-01-01\") # here we should add one more time for the end point\n",
    "    obs_subset=era5_2mt.wx.to_xarray(region=region)\n",
    "    obs_subset_v=obs_subset['v_component_of_wind_10m']\n",
    "    # obs_subset=obs_subset.rename({'x': 'lon','y': 'lat'})\n",
    "    \n",
    "    obs_subset = np.sqrt((obs_subset_u)**2+(obs_subset_v)**2)\n",
    "    \n",
    "    obs_subset=obs_subset.rename({'x': 'lon','y': 'lat'})"
   ]
  },
  {
   "cell_type": "markdown",
   "metadata": {},
   "source": [
    "### SET: the downscale resolution<br>\n",
    "Example: `CHANGE_INTERVAL=0.1` is for a resolution of `1-degree latitude * 0.1 ~ 10km`"
   ]
  },
  {
   "cell_type": "code",
   "execution_count": 8,
   "metadata": {
    "tags": []
   },
   "outputs": [],
   "source": [
    "CHANGE_INTERVAL=0.1#0.005"
   ]
  },
  {
   "cell_type": "markdown",
   "metadata": {},
   "source": [
    "grid interpolation"
   ]
  },
  {
   "cell_type": "code",
   "execution_count": 9,
   "metadata": {
    "tags": []
   },
   "outputs": [],
   "source": [
    "obs_subset = obs_subset.interp(lat=np.arange(NNN, SSS-CHANGE_INTERVAL,-CHANGE_INTERVAL),lon=np.arange(WWW, EEE+CHANGE_INTERVAL,CHANGE_INTERVAL),kwargs={\"fill_value\": \"extrapolate\"})"
   ]
  },
  {
   "cell_type": "markdown",
   "metadata": {},
   "source": [
    "Download climate projections"
   ]
  },
  {
   "cell_type": "code",
   "execution_count": 10,
   "metadata": {
    "tags": []
   },
   "outputs": [],
   "source": [
    "import intake_esm\n",
    "import intake\n",
    "\n",
    "if VAR == 'Precipitation':\n",
    "    # search the cmip6 catalog\n",
    "    col = intake.open_esm_datastore(\"https://storage.googleapis.com/cmip6/pangeo-cmip6.json\")\n",
    "    ################################################################\n",
    "    # change the member_id from r1i1p1f1 for temp to r3i1p1f1 for pr\n",
    "    ################################################################\n",
    "    cat = col.search(experiment_id=['historical','ssp585'], table_id='day', variable_id='pr',member_id='r3i1p1f1',\n",
    "                     grid_label='gn')\n",
    "\n",
    "    # access the data and do some cleanup\n",
    "    ds_model = cat['CMIP.CSIRO-ARCCSS.ACCESS-CM2.historical.day.gn'].to_dask().squeeze(drop=True).drop(['lat_bnds', 'lon_bnds', 'time_bnds'])\n",
    "    ds_model.lon.values[ds_model.lon.values > 180] -= 360\n",
    "    ds_model = ds_model.roll(lon=72, roll_coords=True)\n",
    "\n",
    "    # regional subsets, ready for downscaling\n",
    "    train_subset = ds_model['pr'].sel(time=train_slice).interp_like(obs_subset.isel(time=0, drop=True), method='linear')\n",
    "    train_subset['time']=pd.to_datetime(train_subset['time'].dt.strftime('%Y-%m-%d'))\n",
    "    # train_subset['time'] = train_subset.indexes['time'].to_datetimeindex()\n",
    "    train_subset = train_subset.resample(time='1d').mean().load(scheduler='threads').chunk(chunks)\n",
    "\n",
    "    # access the data and do some cleanup\n",
    "    ds_model = cat['ScenarioMIP.CSIRO-ARCCSS.ACCESS-CM2.ssp585.day.gn'].to_dask().squeeze(drop=True).drop(['lat_bnds', 'lon_bnds', 'time_bnds'])\n",
    "    ds_model.lon.values[ds_model.lon.values > 180] -= 360\n",
    "    ds_model = ds_model.roll(lon=72, roll_coords=True)\n",
    "\n",
    "    holdout_subset = ds_model['pr'].sel(time=holdout_slice).interp_like(obs_subset.isel(time=0, drop=True), method='linear')\n",
    "    holdout_subset['time']=pd.to_datetime(holdout_subset['time'].dt.strftime('%Y-%m-%d'))\n",
    "    # holdout_subset['time'] = holdout_subset.indexes['time'].to_datetimeindex()\n",
    "    holdout_subset = holdout_subset.resample(time='1d').mean().load(scheduler='threads').chunk(chunks)\n",
    "\n",
    "    # convert the unit of pr in CMIP from kg m2 s-1 to m as in ERA5, * 86.4\n",
    "    train_subset   = train_subset   * 86.4\n",
    "    holdout_subset = holdout_subset * 86.4\n",
    "    \n",
    "if VAR == 'Temperature':\n",
    "    # search the cmip6 catalog\n",
    "    col = intake.open_esm_datastore(\"https://storage.googleapis.com/cmip6/pangeo-cmip6.json\")\n",
    "    # cat = col.search(experiment_id=['historical', 'ssp585'], table_id='day', variable_id='tasmax',\n",
    "    #                  grid_label='gn')\n",
    "    cat = col.search(experiment_id=['historical','ssp585'], table_id='day', variable_id='tasmax',member_id='r1i1p1f1',\n",
    "                     grid_label='gn')\n",
    "\n",
    "    # access the data and do some cleanup\n",
    "    ds_model = cat['CMIP.CSIRO-ARCCSS.ACCESS-CM2.historical.day.gn'].to_dask().squeeze(drop=True).drop(['height', 'lat_bnds', 'lon_bnds', 'time_bnds'])\n",
    "    ds_model.lon.values[ds_model.lon.values > 180] -= 360\n",
    "    ds_model = ds_model.roll(lon=72, roll_coords=True)\n",
    "\n",
    "    # regional subsets, ready for downscaling\n",
    "    train_subset = ds_model['tasmax'].sel(time=train_slice).interp_like(obs_subset.isel(time=0, drop=True), method='linear')\n",
    "    train_subset['time']=pd.to_datetime(train_subset['time'].dt.strftime('%Y-%m-%d'))\n",
    "    # train_subset['time'] = train_subset.indexes['time'].to_datetimeindex()\n",
    "    train_subset = train_subset.resample(time='1d').mean().load(scheduler='threads').chunk(chunks)\n",
    "\n",
    "\n",
    "    # access the data and do some cleanup\n",
    "    ds_model = cat['ScenarioMIP.CSIRO-ARCCSS.ACCESS-CM2.ssp585.day.gn'].to_dask().squeeze(drop=True).drop(['height', 'lat_bnds', 'lon_bnds', 'time_bnds'])\n",
    "    ds_model.lon.values[ds_model.lon.values > 180] -= 360\n",
    "    ds_model = ds_model.roll(lon=72, roll_coords=True)\n",
    "\n",
    "    holdout_subset = ds_model['tasmax'].sel(time=holdout_slice).interp_like(obs_subset.isel(time=0, drop=True), method='linear')\n",
    "    holdout_subset['time']=pd.to_datetime(holdout_subset['time'].dt.strftime('%Y-%m-%d'))\n",
    "    # holdout_subset['time'] = holdout_subset.indexes['time'].to_datetimeindex()\n",
    "    holdout_subset = holdout_subset.resample(time='1d').mean().load(scheduler='threads').chunk(chunks)\n",
    "    \n",
    "if VAR == 'Wind' or VAR == 'Surge' :\n",
    "    # search the cmip6 catalog\n",
    "    col = intake.open_esm_datastore(\"https://storage.googleapis.com/cmip6/pangeo-cmip6.json\")\n",
    "    # cat = col.search(experiment_id=['historical', 'ssp585'], table_id='day', variable_id='tasmax',\n",
    "    #                  grid_label='gn')\n",
    "\n",
    "    cat = col.search(experiment_id=['historical','ssp585'], table_id='day', variable_id=['uas'],member_id='r1i1p1f1',\n",
    "                     grid_label='gn')\n",
    "    ds_model = cat['CMIP.CSIRO-ARCCSS.ACCESS-CM2.historical.day.gn'].to_dask().squeeze(drop=True).drop(['height', 'lat_bnds', 'lon_bnds', 'time_bnds'])\n",
    "    ds_model.lon.values[ds_model.lon.values > 180] -= 360\n",
    "    ds_model = ds_model.roll(lon=72, roll_coords=True)\n",
    "    # regional subsets, ready for downscaling\n",
    "    train_subset = ds_model['uas'].sel(time=train_slice).interp_like(obs_subset.isel(time=0, drop=True), method='linear')\n",
    "    train_subset['time']=pd.to_datetime(train_subset['time'].dt.strftime('%Y-%m-%d'))\n",
    "    # train_subset['time'] = train_subset.indexes['time'].to_datetimeindex()\n",
    "    train_subset_u = train_subset.resample(time='1d').mean().load(scheduler='threads').chunk(chunks)\n",
    "\n",
    "    cat = col.search(experiment_id=['historical','ssp585'], table_id='day', variable_id=['vas'],member_id='r1i1p1f1',\n",
    "                     grid_label='gn')\n",
    "    ds_model = cat['CMIP.CSIRO-ARCCSS.ACCESS-CM2.historical.day.gn'].to_dask().squeeze(drop=True).drop(['height', 'lat_bnds', 'lon_bnds', 'time_bnds'])\n",
    "    ds_model.lon.values[ds_model.lon.values > 180] -= 360\n",
    "    ds_model = ds_model.roll(lon=72, roll_coords=True)\n",
    "    train_subset = ds_model['vas'].sel(time=train_slice).interp_like(obs_subset.isel(time=0, drop=True), method='linear')\n",
    "    train_subset['time']=pd.to_datetime(train_subset['time'].dt.strftime('%Y-%m-%d'))\n",
    "    # train_subset['time'] = train_subset.indexes['time'].to_datetimeindex()\n",
    "    train_subset_v = train_subset.resample(time='1d').mean().load(scheduler='threads').chunk(chunks)\n",
    "\n",
    "    train_subset = np.sqrt((train_subset_u)**2+(train_subset_v)**2)\n",
    "\n",
    "    # access the data and do some cleanup\n",
    "    cat = col.search(experiment_id=['historical','ssp585'], table_id='day', variable_id=['uas'],member_id='r1i1p1f1',\n",
    "                     grid_label='gn')\n",
    "    ds_model = cat['ScenarioMIP.CSIRO-ARCCSS.ACCESS-CM2.ssp585.day.gn'].to_dask().squeeze(drop=True).drop(['height', 'lat_bnds', 'lon_bnds', 'time_bnds'])\n",
    "    ds_model.lon.values[ds_model.lon.values > 180] -= 360\n",
    "    ds_model = ds_model.roll(lon=72, roll_coords=True)\n",
    "\n",
    "    holdout_subset = ds_model['uas'].sel(time=holdout_slice).interp_like(obs_subset.isel(time=0, drop=True), method='linear')\n",
    "    holdout_subset['time']=pd.to_datetime(holdout_subset['time'].dt.strftime('%Y-%m-%d'))\n",
    "    # holdout_subset['time'] = holdout_subset.indexes['time'].to_datetimeindex()\n",
    "    holdout_subset_u = holdout_subset.resample(time='1d').mean().load(scheduler='threads').chunk(chunks)\n",
    "\n",
    "    cat = col.search(experiment_id=['historical','ssp585'], table_id='day', variable_id=['vas'],member_id='r1i1p1f1',\n",
    "                     grid_label='gn')\n",
    "    ds_model = cat['ScenarioMIP.CSIRO-ARCCSS.ACCESS-CM2.ssp585.day.gn'].to_dask().squeeze(drop=True).drop(['height', 'lat_bnds', 'lon_bnds', 'time_bnds'])\n",
    "    ds_model.lon.values[ds_model.lon.values > 180] -= 360\n",
    "    ds_model = ds_model.roll(lon=72, roll_coords=True)\n",
    "\n",
    "    holdout_subset = ds_model['vas'].sel(time=holdout_slice).interp_like(obs_subset.isel(time=0, drop=True), method='linear')\n",
    "    holdout_subset['time']=pd.to_datetime(holdout_subset['time'].dt.strftime('%Y-%m-%d'))\n",
    "    # holdout_subset['time'] = holdout_subset.indexes['time'].to_datetimeindex()\n",
    "    holdout_subset_v = holdout_subset.resample(time='1d').mean().load(scheduler='threads').chunk(chunks)\n",
    "\n",
    "    holdout_subset = np.sqrt((holdout_subset_u)**2+(holdout_subset_v)**2)    "
   ]
  },
  {
   "cell_type": "markdown",
   "metadata": {
    "tags": []
   },
   "source": [
    "## Train the model and downscale"
   ]
  },
  {
   "cell_type": "markdown",
   "metadata": {},
   "source": [
    "Train the model"
   ]
  },
  {
   "cell_type": "code",
   "execution_count": 11,
   "metadata": {
    "tags": []
   },
   "outputs": [],
   "source": [
    "model.fit(train_subset, obs_subset)"
   ]
  },
  {
   "cell_type": "markdown",
   "metadata": {},
   "source": [
    "Downscale into future <br>\n",
    "**NB:** <br>\n",
    "1. Downscaled climate predictions is stored in the [xarray](https://xarray.pydata.org/en/stable/) variable named `predicted` \n",
    "2. Current climate status is stored in the [xarray](https://xarray.pydata.org/en/stable/) variable named `nowadays` "
   ]
  },
  {
   "cell_type": "code",
   "execution_count": null,
   "metadata": {
    "tags": []
   },
   "outputs": [],
   "source": [
    "predicted = model.predict(holdout_subset).load()\n",
    "nowadays = model.predict(train_subset).load()"
   ]
  },
  {
   "cell_type": "markdown",
   "metadata": {},
   "source": [
    "## Results visualisation"
   ]
  },
  {
   "cell_type": "markdown",
   "metadata": {},
   "source": [
    "To visualise the data, please first download the land mask [GADM](https://gadm.org/index.html) data from the link: https://biogeo.ucdavis.edu/data/gadm3.6/gadm36_shp.zip<br>\n",
    "Remember to unzip and the shapefile named `gadm36.shp`"
   ]
  },
  {
   "cell_type": "code",
   "execution_count": 13,
   "metadata": {
    "tags": []
   },
   "outputs": [],
   "source": [
    "import regionmask\n",
    "import geopandas as gpd\n",
    "\n",
    "PATH_TO_SHAPEFILE = '../../borders/gadm36.shp' #change to your path#\n",
    "countries = gpd.read_file(PATH_TO_SHAPEFILE)"
   ]
  },
  {
   "cell_type": "markdown",
   "metadata": {},
   "source": [
    "Now give the name of the country you have downscaled.<br>"
   ]
  },
  {
   "cell_type": "code",
   "execution_count": 14,
   "metadata": {
    "tags": []
   },
   "outputs": [],
   "source": [
    "COUNTRY_NAME = 'Malaysia'"
   ]
  },
  {
   "cell_type": "code",
   "execution_count": 15,
   "metadata": {},
   "outputs": [
    {
     "data": {
      "image/png": "[encoded data removed]",
      "text/plain": [
       "<Figure size 1152x576 with 2 Axes>"
      ]
     },
     "metadata": {},
     "output_type": "display_data"
    }
   ],
   "source": [
    "if VAR == 'Precipitation':\n",
    "    tmp_var = predicted.mean('time') * 1000.\n",
    "\n",
    "    countries_select = countries[countries.NAME_0==COUNTRY_NAME].geometry\n",
    "\n",
    "    countries_mask_poly = regionmask.Regions(name = 'NAME_0', outlines = list(countries_select.geometry.values[i] for i in range(0,countries_select.shape[0])))\n",
    "\n",
    "    mask = countries_mask_poly.mask(predicted.isel(time = 0), lat_name='lat', lon_name='lon')\n",
    "    tmp_var = tmp_var.where(~np.isnan(mask))\n",
    "\n",
    "    _=plt.figure(figsize=(16,8))\n",
    "    ax = plt.axes()\n",
    "    im=tmp_var.plot(ax=ax,cmap='rainbow',add_colorbar=False)\n",
    "    # im = countries_select.plot(ax = ax, alpha = 0.8, facecolor = 'none', lw = 1)\n",
    "\n",
    "    cb = plt.colorbar(im, orientation=\"vertical\",label='Precipication in 2050 (mm per day)', extend='both')\n",
    "    \n",
    "if VAR == 'Temperature':\n",
    "    tmp_var = predicted.mean('time') - 273.15 # change temp unit from Kelvin to Celcius\n",
    "\n",
    "    countries_select = countries[countries.NAME_0==COUNTRY_NAME].geometry\n",
    "\n",
    "    countries_mask_poly = regionmask.Regions(name = 'NAME_0', outlines = list(countries_select.geometry.values[i] for i in range(0,countries_select.shape[0])))\n",
    "\n",
    "    mask = countries_mask_poly.mask(predicted.isel(time = 0), lat_name='lat', lon_name='lon')\n",
    "    tmp_var = tmp_var.where(~np.isnan(mask))\n",
    "\n",
    "    _=plt.figure(figsize=(16,8))\n",
    "    ax = plt.axes()\n",
    "    im=tmp_var.plot(ax=ax,cmap='rainbow',add_colorbar=False)\n",
    "    # im = countries_select.plot(ax = ax, alpha = 0.8, facecolor = 'none', lw = 1)\n",
    "\n",
    "    cb = plt.colorbar(im, orientation=\"vertical\",label='Temperature in 2050 (C)', extend='both')\n",
    "    \n",
    "if VAR == 'Wind':\n",
    "    tmp_var = predicted.mean('time')\n",
    "\n",
    "    countries_select = countries[countries.NAME_0==COUNTRY_NAME].geometry\n",
    "\n",
    "    countries_mask_poly = regionmask.Regions(name = 'NAME_0', outlines = list(countries_select.geometry.values[i] for i in range(0,countries_select.shape[0])))\n",
    "\n",
    "    mask = countries_mask_poly.mask(predicted.isel(time = 0), lat_name='lat', lon_name='lon')\n",
    "    tmp_var = tmp_var.where(~np.isnan(mask))\n",
    "\n",
    "    _=plt.figure(figsize=(16,8))\n",
    "    ax = plt.axes()\n",
    "    im=tmp_var.plot(ax=ax,cmap='rainbow',add_colorbar=False)\n",
    "    # im = countries_select.plot(ax = ax, alpha = 0.8, facecolor = 'none', lw = 1)\n",
    "\n",
    "    cb = plt.colorbar(im, orientation=\"vertical\",label='Wind in 2050 (m/s)', extend='both')\n",
    "    \n",
    "if VAR == 'Surge':\n",
    "    tmp_var = (predicted.mean(dim=\"time\") / nowadays.mean(dim=\"time\") - 1.) * 42. * ((5.5-1.5)/(69-42))\n",
    "    \n",
    "    countries_select = countries[countries.NAME_0==COUNTRY_NAME].geometry.buffer(.5)\n",
    "\n",
    "    countries_mask_poly = regionmask.Regions(name = 'NAME_0', outlines = list(countries_select.geometry.values[i] for i in range(0,countries_select.shape[0])))\n",
    "\n",
    "    mask = countries_mask_poly.mask(predicted.isel(time = 0), lat_name='lat', lon_name='lon')\n",
    "    tmp_var = tmp_var.where(~np.isnan(mask))\n",
    "\n",
    "    _=plt.figure(figsize=(16,8))\n",
    "    ax = plt.axes()\n",
    "    im=tmp_var.plot(ax=ax,cmap='rainbow',add_colorbar=False)\n",
    "    # im = countries_select.plot(ax = ax, alpha = 0.8, facecolor = 'none', lw = 1)\n",
    "\n",
    "    cb = plt.colorbar(im, orientation=\"vertical\",label='Surge change in 2050 (m)', extend='both')\n",
    "    _=plt.title(\"The land should NOT be used for the surge analysis in this figure\\nthe plotted area includes land and coastal region within 50-km ocean to coasts\")"
   ]
  },
  {
   "cell_type": "code",
   "execution_count": null,
   "metadata": {},
   "outputs": [],
   "source": []
  },
  {
   "cell_type": "code",
   "execution_count": null,
   "metadata": {},
   "outputs": [],
   "source": []
  },
  {
   "cell_type": "code",
   "execution_count": null,
   "metadata": {},
   "outputs": [],
   "source": []
  }
 ],
 "metadata": {
  "kernelspec": {
   "display_name": "Python 3",
   "language": "python",
   "name": "python3"
  },
  "language_info": {
   "codemirror_mode": {
    "name": "ipython",
    "version": 3
   },
   "file_extension": ".py",
   "mimetype": "text/x-python",
   "name": "python",
   "nbconvert_exporter": "python",
   "pygments_lexer": "ipython3",
   "version": "3.8.8"
  }
 },
 "nbformat": 4,
 "nbformat_minor": 4
}
